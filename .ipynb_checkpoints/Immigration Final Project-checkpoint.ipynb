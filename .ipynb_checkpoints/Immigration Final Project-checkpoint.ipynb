{
 "cells": [
  {
   "cell_type": "markdown",
   "metadata": {},
   "source": [
    "## Analysis of the effects of the 2017 Travel Ban Executive order\n",
    "We were curious what some of the effects of the 2017 Travel Ban executive order signed by President Donald Trump on individuals and wanted to answer a few specific questions.\n",
    "    1. Looking at the 7 countries targeted by the ban, how many people would be refused greencards over a 90 day period? What proportion would be refugees?\n",
    "    -howandwheregreencard.xls\n",
    "    Assume refugee applicants for 2017 are roughly the same as 2015 and the applicants are distributed iid Uniformly over the year.\n",
    "    \n",
    "    4. With Refugees, where do they come from? What country brings the highest proportion of refugees vs Green Card holders? Do these countries have more refugees than others on average?\n",
    "    -howandwheregreencard.xls\n",
    "    Plot on map with concentric circles showing number of immigrants and proportion of immigrants that are refugees.\n",
    "    \n",
    "    2. How many of these individuals would be deported? How many for doing illegal things?\n",
    "    -RemovedByCrimAndNationality.xls\n",
    "    \n",
    "    5. How does GDP impact refugee rates?\n",
    "    -World Bank GDP Dataset\n",
    "    -howandwheregreencard.xls\n",
    "    A linear regression with GDP, institutional quality, etc...\n",
    "    \n",
    "    3.Analysis public sentiment for the ban.\n",
    "    Twitter API for public sentiment.\n",
    "We asked these to see more into what this ban would do to the United States as a whole using data from 2015 from the US Department of Homeland Security. This data will be analyzed through pandas and visualized in different ways."
   ]
  },
  {
   "cell_type": "code",
   "execution_count": null,
   "metadata": {
    "collapsed": true
   },
   "outputs": [],
   "source": [
    "import pandas as pd\n",
    "import numpy as np"
   ]
  },
  {
   "cell_type": "code",
   "execution_count": null,
   "metadata": {
    "collapsed": true
   },
   "outputs": [],
   "source": []
  },
  {
   "cell_type": "code",
   "execution_count": null,
   "metadata": {
    "collapsed": true
   },
   "outputs": [],
   "source": []
  },
  {
   "cell_type": "code",
   "execution_count": null,
   "metadata": {
    "collapsed": true
   },
   "outputs": [],
   "source": []
  },
  {
   "cell_type": "code",
   "execution_count": null,
   "metadata": {
    "collapsed": true
   },
   "outputs": [],
   "source": []
  },
  {
   "cell_type": "code",
   "execution_count": null,
   "metadata": {
    "collapsed": true
   },
   "outputs": [],
   "source": []
  },
  {
   "cell_type": "code",
   "execution_count": null,
   "metadata": {
    "collapsed": true
   },
   "outputs": [],
   "source": []
  },
  {
   "cell_type": "code",
   "execution_count": null,
   "metadata": {
    "collapsed": true
   },
   "outputs": [],
   "source": []
  },
  {
   "cell_type": "code",
   "execution_count": null,
   "metadata": {
    "collapsed": true
   },
   "outputs": [],
   "source": []
  },
  {
   "cell_type": "code",
   "execution_count": null,
   "metadata": {
    "collapsed": true
   },
   "outputs": [],
   "source": []
  },
  {
   "cell_type": "code",
   "execution_count": null,
   "metadata": {
    "collapsed": true
   },
   "outputs": [],
   "source": []
  },
  {
   "cell_type": "code",
   "execution_count": null,
   "metadata": {
    "collapsed": true
   },
   "outputs": [],
   "source": []
  },
  {
   "cell_type": "code",
   "execution_count": null,
   "metadata": {
    "collapsed": true
   },
   "outputs": [],
   "source": []
  }
 ],
 "metadata": {
  "anaconda-cloud": {},
  "kernelspec": {
   "display_name": "Python [default]",
   "language": "python",
   "name": "python2"
  },
  "language_info": {
   "codemirror_mode": {
    "name": "ipython",
    "version": 2
   },
   "file_extension": ".py",
   "mimetype": "text/x-python",
   "name": "python",
   "nbconvert_exporter": "python",
   "pygments_lexer": "ipython2",
   "version": "2.7.12"
  }
 },
 "nbformat": 4,
 "nbformat_minor": 1
}
